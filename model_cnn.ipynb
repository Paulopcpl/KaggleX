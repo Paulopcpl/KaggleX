{
  "nbformat": 4,
  "nbformat_minor": 0,
  "metadata": {
    "colab": {
      "provenance": []
    },
    "kernelspec": {
      "name": "python3",
      "display_name": "Python 3"
    },
    "language_info": {
      "name": "python"
    }
  },
  "cells": [
    {
      "cell_type": "code",
      "execution_count": 1,
      "metadata": {
        "colab": {
          "base_uri": "https://localhost:8080/"
        },
        "id": "aA1tp6NnHEg_",
        "outputId": "1ef11596-eac8-4df2-a6ba-8dbd87d56c07"
      },
      "outputs": [
        {
          "output_type": "stream",
          "name": "stdout",
          "text": [
            "Drive already mounted at /content/drive; to attempt to forcibly remount, call drive.mount(\"/content/drive\", force_remount=True).\n"
          ]
        }
      ],
      "source": [
        "from google.colab import drive\n",
        "drive.mount('/content/drive')"
      ]
    },
    {
      "cell_type": "code",
      "source": [
        "import os\n",
        "import time\n",
        "from datetime import timedelta\n",
        "import h5py\n",
        "import numpy as np\n",
        "# import tensorflow as tf\n",
        "import tensorflow.compat.v1 as tf\n",
        "tf.disable_v2_behavior()\n",
        "import matplotlib.pyplot as plt\n",
        "import seaborn as sns"
      ],
      "metadata": {
        "colab": {
          "base_uri": "https://localhost:8080/"
        },
        "id": "vTPySie3HRtt",
        "outputId": "01202422-82fb-433d-ddc5-a021637ffeb6"
      },
      "execution_count": 17,
      "outputs": [
        {
          "output_type": "stream",
          "name": "stderr",
          "text": [
            "WARNING:tensorflow:From /usr/local/lib/python3.10/dist-packages/tensorflow/python/compat/v2_compat.py:107: disable_resource_variables (from tensorflow.python.ops.variable_scope) is deprecated and will be removed in a future version.\n",
            "Instructions for updating:\n",
            "non-resource variables are not supported in the long term\n"
          ]
        }
      ]
    },
    {
      "cell_type": "code",
      "source": [
        "fname = h5py.File('/content/drive/MyDrive/archive/greyscale_svhn1.h5', 'r')\n",
        "X_train = fname['X_train'][:]\n",
        "y_train = fname['y_train'][:]\n",
        "X_test = fname['X_test'][:]\n",
        "y_test = fname['y_test'][:]\n",
        "X_val = fname['X_val'][:]\n",
        "y_val = fname['y_val'][:]\n",
        "fname.close()"
      ],
      "metadata": {
        "id": "BgMlE-XzIFpe"
      },
      "execution_count": 3,
      "outputs": []
    },
    {
      "cell_type": "code",
      "source": [
        "print(X_train.shape)"
      ],
      "metadata": {
        "colab": {
          "base_uri": "https://localhost:8080/"
        },
        "id": "KSqjwSVHI8PR",
        "outputId": "96f5fc34-8201-4df0-8ad2-aa9ae670dd53"
      },
      "execution_count": 4,
      "outputs": [
        {
          "output_type": "stream",
          "name": "stdout",
          "text": [
            "(65931, 32, 32, 1)\n"
          ]
        }
      ]
    },
    {
      "cell_type": "code",
      "source": [
        "print(y_train.shape)"
      ],
      "metadata": {
        "colab": {
          "base_uri": "https://localhost:8080/"
        },
        "id": "ngD36nUaJBQR",
        "outputId": "ee7b8431-2a2b-4e17-83b1-4448e40eec5e"
      },
      "execution_count": 5,
      "outputs": [
        {
          "output_type": "stream",
          "name": "stdout",
          "text": [
            "(65931, 10)\n"
          ]
        }
      ]
    },
    {
      "cell_type": "code",
      "source": [
        "#function to plot the img\n",
        "def plot_img(img, nrows, ncols, cls_true, cls_pred=None):\n",
        "    fig, axes = plt.subplots(nrows, ncols)\n",
        "    rs = np.random.choice(img.shape[0], nrows*ncols)\n",
        "    for i, ax in zip(rs, axes.flat):\n",
        "        if cls_pred is None:\n",
        "            title = \"True: {0}\".format(np.argmax(cls_true[i]))\n",
        "        else:\n",
        "            title = \"True: {0}, Pred: {1}\".format(np.argmax(cls_true[i]), cls_pred[i])\n",
        "        ax.imshow(img[i,:,:,0], cmap='binary')\n",
        "        ax.set_title(title)\n",
        "        ax.set_xticks([])\n",
        "        ax.set_yticks([])"
      ],
      "metadata": {
        "id": "bC9EIa8LHhff"
      },
      "execution_count": 6,
      "outputs": []
    },
    {
      "cell_type": "code",
      "source": [
        "TENSORBOARD_SUMMARIES_DIR = '/content/drive/MyDrive/archive/svhn_logs' #can be used with pytorch"
      ],
      "metadata": {
        "id": "agREKpwKInzR"
      },
      "execution_count": 8,
      "outputs": []
    },
    {
      "cell_type": "code",
      "source": [
        "def log_dir():\n",
        "  if tf.gfile.Exists(TENSORBOARD_SUMMARIES_DIR):\n",
        "    tf.gfile.DeleteRecursively(TENSORBOARD_SUMMARIES_DIR)\n",
        "  tf.gfile.MakeDirs(TENSORBOARD_SUMMARIES_DIR)"
      ],
      "metadata": {
        "id": "lKrSrTMvILRe"
      },
      "execution_count": 9,
      "outputs": []
    },
    {
      "cell_type": "code",
      "source": [
        "def fetch_batch(X, y, batch_size=256):\n",
        "  for i in np.arange(0,y.shape[0],batch_size):\n",
        "    last = min(X.shape[0], i+batch_size)\n",
        "    yield(X[i:last],y[i:last])"
      ],
      "metadata": {
        "id": "L8X-vB6GIu_I"
      },
      "execution_count": 33,
      "outputs": []
    },
    {
      "cell_type": "code",
      "source": [
        "comp = 32*32\n",
        "tf.compat.v1.logging.set_verbosity(tf.compat.v1.logging.INFO)\n",
        "x = tf.placeholder(tf.float32, shape = [None, 32, 32, 1], name='Input_Data')\n",
        "y = tf.placeholder(tf.float32, shape = [None, 10], name='Input_Labels')\n",
        "y_cls = tf.argmax(y, 1)\n",
        "dropout_rate = tf.placeholder(tf.float32, name='Dropout_rate')"
      ],
      "metadata": {
        "id": "B08yrwxKJOd-"
      },
      "execution_count": 19,
      "outputs": []
    },
    {
      "cell_type": "code",
      "source": [
        "#!tf_upgrade_v2"
      ],
      "metadata": {
        "id": "RfUAEpVoKBZF"
      },
      "execution_count": null,
      "outputs": []
    },
    {
      "cell_type": "code",
      "source": [
        "def svhn_model(X):\n",
        "  ip = tf.reshape(X, [-1,32,32,1], name = 'reshaped_ip')\n",
        "  cl1 = tf.layers.conv2d(inputs=ip, filters=32, kernel_size=[5,5], padding='same', activation=tf.nn.relu)\n",
        "  pool1=tf.layers.max_pooling2d(inputs=cl1,pool_size=[2,2], strides=2)\n",
        "  cl2 = tf.layers.conv2d(inputs=pool1, filters=64, kernel_size=[5,5], padding='same', activation=tf.nn.relu)\n",
        "  pool2=tf.layers.max_pooling2d(inputs=cl2,pool_size=[2,2], strides=2)\n",
        "  pool2_flat = tf.reshape(pool2, [-1, 8 * 8 * 64]) #flattening the op of pool2\n",
        "  fcnn=tf.layers.dense(inputs=pool2_flat, units=128, activation=tf.nn.relu)\n",
        "  dropout_layer = tf.layers.dropout(inputs=fcnn, rate=dropout_rate)\n",
        "  logits = tf.layers.dense(inputs=dropout_layer, units=10)\n",
        "  return logits"
      ],
      "metadata": {
        "id": "sNSyyDZhKPQG"
      },
      "execution_count": 20,
      "outputs": []
    },
    {
      "cell_type": "code",
      "source": [
        "num_ex = X_train.shape[0]\n",
        "num_epochs = 3"
      ],
      "metadata": {
        "id": "gzYDXBGpNTKz"
      },
      "execution_count": 21,
      "outputs": []
    },
    {
      "cell_type": "code",
      "source": [
        "log_dir()"
      ],
      "metadata": {
        "id": "oIWJL-YzNae7"
      },
      "execution_count": 22,
      "outputs": []
    },
    {
      "cell_type": "code",
      "source": [
        "pred = svhn_model(x)\n",
        "pred_cls = tf.argmax(pred,1)"
      ],
      "metadata": {
        "colab": {
          "base_uri": "https://localhost:8080/"
        },
        "id": "TCcryMklNcd9",
        "outputId": "1e78453e-5a64-41cb-d2cd-4d8f430eb7dd"
      },
      "execution_count": 23,
      "outputs": [
        {
          "output_type": "stream",
          "name": "stderr",
          "text": [
            "<ipython-input-20-58e3fb6a768a>:3: UserWarning: `tf.layers.conv2d` is deprecated and will be removed in a future version. Please Use `tf.keras.layers.Conv2D` instead.\n",
            "  cl1 = tf.layers.conv2d(inputs=ip, filters=32, kernel_size=[5,5], padding='same', activation=tf.nn.relu)\n",
            "<ipython-input-20-58e3fb6a768a>:4: UserWarning: `tf.layers.max_pooling2d` is deprecated and will be removed in a future version. Please use `tf.keras.layers.MaxPooling2D` instead.\n",
            "  pool1=tf.layers.max_pooling2d(inputs=cl1,pool_size=[2,2], strides=2)\n",
            "<ipython-input-20-58e3fb6a768a>:5: UserWarning: `tf.layers.conv2d` is deprecated and will be removed in a future version. Please Use `tf.keras.layers.Conv2D` instead.\n",
            "  cl2 = tf.layers.conv2d(inputs=pool1, filters=64, kernel_size=[5,5], padding='same', activation=tf.nn.relu)\n",
            "<ipython-input-20-58e3fb6a768a>:6: UserWarning: `tf.layers.max_pooling2d` is deprecated and will be removed in a future version. Please use `tf.keras.layers.MaxPooling2D` instead.\n",
            "  pool2=tf.layers.max_pooling2d(inputs=cl2,pool_size=[2,2], strides=2)\n",
            "<ipython-input-20-58e3fb6a768a>:8: UserWarning: `tf.layers.dense` is deprecated and will be removed in a future version. Please use `tf.keras.layers.Dense` instead.\n",
            "  fcnn=tf.layers.dense(inputs=pool2_flat, units=128, activation=tf.nn.relu)\n",
            "<ipython-input-20-58e3fb6a768a>:9: UserWarning: `tf.layers.dropout` is deprecated and will be removed in a future version. Please use `tf.keras.layers.Dropout` instead.\n",
            "  dropout_layer = tf.layers.dropout(inputs=fcnn, rate=dropout_rate)\n",
            "<ipython-input-20-58e3fb6a768a>:10: UserWarning: `tf.layers.dense` is deprecated and will be removed in a future version. Please use `tf.keras.layers.Dense` instead.\n",
            "  logits = tf.layers.dense(inputs=dropout_layer, units=10)\n"
          ]
        }
      ]
    },
    {
      "cell_type": "code",
      "source": [
        "loss = tf.reduce_mean(tf.losses.softmax_cross_entropy(onehot_labels=y,logits=pred))"
      ],
      "metadata": {
        "id": "cy3XloldN_c2"
      },
      "execution_count": 24,
      "outputs": []
    },
    {
      "cell_type": "code",
      "source": [
        "opt = tf.train.AdamOptimizer().minimize(loss)"
      ],
      "metadata": {
        "id": "dHXyAPJkOZ2G"
      },
      "execution_count": 25,
      "outputs": []
    },
    {
      "cell_type": "code",
      "source": [
        "pos_pred=tf.equal(pred_cls,y_cls)\n",
        "acc=tf.reduce_mean(tf.cast(pos_pred,tf.float32))"
      ],
      "metadata": {
        "id": "3XOmv6IdOgZg"
      },
      "execution_count": 26,
      "outputs": []
    },
    {
      "cell_type": "code",
      "source": [
        "session = tf.Session()\n",
        "session.run(tf.global_variables_initializer())"
      ],
      "metadata": {
        "id": "hZZPXI0zO1zW"
      },
      "execution_count": 28,
      "outputs": []
    },
    {
      "cell_type": "code",
      "source": [
        "saver_tf = tf.train.Saver()\n",
        "saving_directory = '/content/drive/MyDrive/archive/save_checkpoint'"
      ],
      "metadata": {
        "id": "Ws5z8AzQO-Y-"
      },
      "execution_count": 29,
      "outputs": []
    },
    {
      "cell_type": "code",
      "source": [
        "saving_path = os.path.join(saving_directory, 'svhn1_grey')"
      ],
      "metadata": {
        "id": "3k-CvEOvPWEV"
      },
      "execution_count": 30,
      "outputs": []
    },
    {
      "cell_type": "code",
      "source": [
        "batch_size = 512\n",
        "dropout_precentatge = 0.5"
      ],
      "metadata": {
        "id": "aV68ZuSmQ37C"
      },
      "execution_count": 31,
      "outputs": []
    },
    {
      "cell_type": "code",
      "source": [
        "train_loss = []\n",
        "valid_loss = []\n",
        "start_time = time.time()\n",
        "for epoch in range(num_epochs):\n",
        "    print ('Training .........')\n",
        "    epoch_loss = 0\n",
        "    print ()\n",
        "    print ('Epoch ', epoch+1 , ': ........ \\n')\n",
        "    step = 0\n",
        "\n",
        "    ## Training epochs ....\n",
        "    for (epoch_x , epoch_y) in fetch_batch(X_train, y_train, batch_size):\n",
        "        _, train_accu, c = session.run([opt, acc, loss], feed_dict={x: epoch_x, y: epoch_y, dropout_rate: dropout_precentatge})\n",
        "        train_loss.append(c)\n",
        "\n",
        "        if(step%40 == 0):\n",
        "            print (\"Step:\", step, \".....\", \"\\nMini-Batch Loss   : \", c)\n",
        "            print('Mini-Batch Accuracy :' , train_accu*100.0, '%')\n",
        "\n",
        "            ## Validating prediction and summaries\n",
        "            accu = 0.0\n",
        "            for (epoch_x , epoch_y) in fetch_batch(X_val, y_val, 512):\n",
        "                correct, _c = session.run([pos_pred, loss], feed_dict={x: epoch_x, y: epoch_y, dropout_rate: 0.0})\n",
        "                valid_loss.append(_c)\n",
        "                accu+= np.sum(correct[correct == True])\n",
        "            print('Validation Accuracy :' , accu*100.0/y_val.shape[0], '%')\n",
        "            print ()\n",
        "        step = step + 1\n",
        "\n",
        "\n",
        "    print ('Epoch', epoch+1, 'completed out of ', num_epochs)\n",
        "\n",
        "\n",
        "## Calculate net time\n",
        "time_diff = time.time() - start_time\n",
        "\n",
        "## Testing prediction and summaries\n",
        "accu = 0.0\n",
        "for (epoch_x , epoch_y) in fetch_batch(X_test, y_test, 512):\n",
        "    correct = session.run([pos_pred], feed_dict={x: epoch_x, y: epoch_y, dropout_rate: 0.0})\n",
        "    accu+= np.sum(correct[correct == True])\n",
        "print('Test Accuracy :' , accu*100.0/y_test.shape[0], '%')\n",
        "print(\"Time usage: \" + str(timedelta(seconds=int(round(time_diff)))))\n",
        "print ()"
      ],
      "metadata": {
        "colab": {
          "base_uri": "https://localhost:8080/"
        },
        "id": "QHupWkUpPp_9",
        "outputId": "58259b46-c6a4-45eb-9318-16c796e42120"
      },
      "execution_count": 34,
      "outputs": [
        {
          "output_type": "stream",
          "name": "stdout",
          "text": [
            "Training .........\n",
            "\n",
            "Epoch  1 : ........ \n",
            "\n",
            "Step: 0 ..... \n",
            "Mini-Batch Loss   :  2.3368883\n",
            "Mini-Batch Accuracy : 8.0078125 %\n",
            "Validation Accuracy : 19.51951951951952 %\n",
            "\n",
            "Step: 40 ..... \n",
            "Mini-Batch Loss   :  1.3540759\n",
            "Mini-Batch Accuracy : 58.3984375 %\n",
            "Validation Accuracy : 61.42506142506142 %\n",
            "\n",
            "Step: 80 ..... \n",
            "Mini-Batch Loss   :  0.76037306\n",
            "Mini-Batch Accuracy : 76.7578125 %\n",
            "Validation Accuracy : 79.78432978432978 %\n",
            "\n",
            "Step: 120 ..... \n",
            "Mini-Batch Loss   :  0.6212231\n",
            "Mini-Batch Accuracy : 83.0078125 %\n",
            "Validation Accuracy : 82.30958230958231 %\n",
            "\n",
            "Epoch 1 completed out of  3\n",
            "Training .........\n",
            "\n",
            "Epoch  2 : ........ \n",
            "\n",
            "Step: 0 ..... \n",
            "Mini-Batch Loss   :  0.62487376\n",
            "Mini-Batch Accuracy : 81.8359375 %\n",
            "Validation Accuracy : 84.13868413868414 %\n",
            "\n",
            "Step: 40 ..... \n",
            "Mini-Batch Loss   :  0.5693389\n",
            "Mini-Batch Accuracy : 85.7421875 %\n",
            "Validation Accuracy : 84.54818454818455 %\n",
            "\n",
            "Step: 80 ..... \n",
            "Mini-Batch Loss   :  0.53238857\n",
            "Mini-Batch Accuracy : 84.375 %\n",
            "Validation Accuracy : 85.40813540813541 %\n",
            "\n",
            "Step: 120 ..... \n",
            "Mini-Batch Loss   :  0.5129161\n",
            "Mini-Batch Accuracy : 85.15625 %\n",
            "Validation Accuracy : 86.82773682773683 %\n",
            "\n",
            "Epoch 2 completed out of  3\n",
            "Training .........\n",
            "\n",
            "Epoch  3 : ........ \n",
            "\n",
            "Step: 0 ..... \n",
            "Mini-Batch Loss   :  0.50226265\n",
            "Mini-Batch Accuracy : 85.9375 %\n",
            "Validation Accuracy : 87.52388752388752 %\n",
            "\n",
            "Step: 40 ..... \n",
            "Mini-Batch Loss   :  0.44287068\n",
            "Mini-Batch Accuracy : 88.4765625 %\n",
            "Validation Accuracy : 87.41468741468742 %\n",
            "\n",
            "Step: 80 ..... \n",
            "Mini-Batch Loss   :  0.418226\n",
            "Mini-Batch Accuracy : 86.71875 %\n",
            "Validation Accuracy : 87.86513786513787 %\n",
            "\n",
            "Step: 120 ..... \n",
            "Mini-Batch Loss   :  0.45236856\n",
            "Mini-Batch Accuracy : 86.5234375 %\n",
            "Validation Accuracy : 88.11083811083812 %\n",
            "\n",
            "Epoch 3 completed out of  3\n",
            "Test Accuracy : 86.47433927473878 %\n",
            "Time usage: 0:06:47\n",
            "\n"
          ]
        }
      ]
    },
    {
      "cell_type": "code",
      "source": [
        "saver_tf.save(sess=session, save_path=saving_path)"
      ],
      "metadata": {
        "colab": {
          "base_uri": "https://localhost:8080/",
          "height": 36
        },
        "id": "EwhnrdGIRPxf",
        "outputId": "200a624f-5cff-40e5-be6f-06de92852df4"
      },
      "execution_count": 35,
      "outputs": [
        {
          "output_type": "execute_result",
          "data": {
            "text/plain": [
              "'/content/drive/MyDrive/archive/save_checkpoint/svhn1_grey'"
            ],
            "application/vnd.google.colaboratory.intrinsic+json": {
              "type": "string"
            }
          },
          "metadata": {},
          "execution_count": 35
        }
      ]
    },
    {
      "cell_type": "code",
      "source": [
        "#cm, roc-auc, pre-recall curve\n",
        "#imaug"
      ],
      "metadata": {
        "id": "wGk7J5VuU2pc"
      },
      "execution_count": 1,
      "outputs": []
    },
    {
      "cell_type": "code",
      "source": [
        "#pixel shuffle (super-resolution)"
      ],
      "metadata": {
        "id": "s1Nlfjt3o1cu"
      },
      "execution_count": null,
      "outputs": []
    }
  ]
}