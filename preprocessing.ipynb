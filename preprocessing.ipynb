{
  "nbformat": 4,
  "nbformat_minor": 0,
  "metadata": {
    "colab": {
      "provenance": []
    },
    "kernelspec": {
      "name": "python3",
      "display_name": "Python 3"
    },
    "language_info": {
      "name": "python"
    }
  },
  "cells": [
    {
      "cell_type": "code",
      "source": [
        "import cv2\n",
        "import h5py\n",
        "import os\n",
        "import glob\n",
        "import numpy as np\n",
        "import matplotlib.pyplot as plt\n",
        "import seaborn as sns\n",
        "from scipy.io import loadmat\n",
        "from skimage import color\n",
        "from skimage import io\n",
        "from sklearn.preprocessing import OneHotEncoder\n",
        "from sklearn.model_selection import train_test_split"
      ],
      "metadata": {
        "id": "uejZKR2m14Nl"
      },
      "execution_count": null,
      "outputs": []
    },
    {
      "cell_type": "code",
      "execution_count": null,
      "metadata": {
        "colab": {
          "base_uri": "https://localhost:8080/"
        },
        "id": "bh-PJgVrykvF",
        "outputId": "29006155-c01e-4fc0-d9f5-c62f22ddbe8b"
      },
      "outputs": [
        {
          "output_type": "stream",
          "name": "stdout",
          "text": [
            "Mounted at /content/drive\n"
          ]
        }
      ],
      "source": [
        "from google.colab import drive\n",
        "drive.mount('/content/drive')"
      ]
    },
    {
      "cell_type": "code",
      "source": [
        "# train_tar = \"/content/drive/MyDrive/train.tar\"\n",
        "# test_tar = \"/content/drive/MyDrive/test.tar\""
      ],
      "metadata": {
        "id": "K9sBN_Ngy8gI"
      },
      "execution_count": null,
      "outputs": []
    },
    {
      "cell_type": "code",
      "source": [
        "# !tar -xvf \"/content/drive/MyDrive/train.tar\" -C \"/content\""
      ],
      "metadata": {
        "colab": {
          "base_uri": "https://localhost:8080/"
        },
        "id": "7JAoG1FVz6Tv",
        "outputId": "a75cb040-f422-42dd-c0ac-1f34c00567c1"
      },
      "execution_count": null,
      "outputs": [
        {
          "output_type": "stream",
          "name": "stdout",
          "text": [
            "tar: /content/drive/MyDrive/train.tar: Cannot open: No such file or directory\n",
            "tar: Error is not recoverable: exiting now\n"
          ]
        }
      ]
    },
    {
      "cell_type": "code",
      "source": [
        "# !tar -xvf \"/content/drive/MyDrive/test.tar\" -C \"/content\""
      ],
      "metadata": {
        "id": "yjXZOtd01JAo"
      },
      "execution_count": null,
      "outputs": []
    },
    {
      "cell_type": "code",
      "source": [
        "# train_img = []\n",
        "# for img in glob.glob(\"/content/train/*.png\"):\n",
        "#   temp = cv2.imread(img)\n",
        "#   train_img.append(temp)"
      ],
      "metadata": {
        "id": "IdYueaxC1V_8"
      },
      "execution_count": null,
      "outputs": []
    },
    {
      "cell_type": "code",
      "source": [
        "# test_img = []\n",
        "# for img in glob.glob(\"/content/test/*.png\"):\n",
        "#   temp = cv2.imread(img)\n",
        "#   test_img.append(temp)"
      ],
      "metadata": {
        "id": "Dic9L-xH3TXr"
      },
      "execution_count": null,
      "outputs": []
    },
    {
      "cell_type": "code",
      "source": [
        "# len(train_img)"
      ],
      "metadata": {
        "colab": {
          "base_uri": "https://localhost:8080/"
        },
        "id": "PgyCwX-N3aaG",
        "outputId": "889588fb-8811-4c89-f7d3-f72c51a4eef1"
      },
      "execution_count": null,
      "outputs": [
        {
          "output_type": "execute_result",
          "data": {
            "text/plain": [
              "33402"
            ]
          },
          "metadata": {},
          "execution_count": 19
        }
      ]
    },
    {
      "cell_type": "code",
      "source": [
        "# len(test_img)"
      ],
      "metadata": {
        "colab": {
          "base_uri": "https://localhost:8080/"
        },
        "id": "BSK1yCkh3iAJ",
        "outputId": "e9cb5b6a-8d97-49e9-f3d8-49742f3004d0"
      },
      "execution_count": null,
      "outputs": [
        {
          "output_type": "execute_result",
          "data": {
            "text/plain": [
              "13068"
            ]
          },
          "metadata": {},
          "execution_count": 20
        }
      ]
    },
    {
      "cell_type": "code",
      "source": [
        "def load_data(mat_path):\n",
        "  data = loadmat(mat_path)\n",
        "  return data['X'], data['y']"
      ],
      "metadata": {
        "id": "IB0WVtVQ3jJd"
      },
      "execution_count": null,
      "outputs": []
    },
    {
      "cell_type": "code",
      "source": [
        "X_train, y_train = load_data('/content/drive/MyDrive/archive/train_32x32.mat')\n",
        "X_test, y_test = load_data('/content/drive/MyDrive/archive/test_32x32.mat')"
      ],
      "metadata": {
        "id": "vGQT4cH35QYK"
      },
      "execution_count": null,
      "outputs": []
    },
    {
      "cell_type": "code",
      "source": [
        "print(X_train.shape)\n",
        "print(y_test.shape)"
      ],
      "metadata": {
        "colab": {
          "base_uri": "https://localhost:8080/"
        },
        "id": "KPlQKTYi6jHo",
        "outputId": "87dfc41f-fa60-4cea-cc50-4fcc090f75a8"
      },
      "execution_count": null,
      "outputs": [
        {
          "output_type": "stream",
          "name": "stdout",
          "text": [
            "(73257, 32, 32, 3)\n",
            "(26032,)\n"
          ]
        }
      ]
    },
    {
      "cell_type": "code",
      "source": [
        "#convert into proper format (l,w,h,#channel)\n",
        "X_train,y_train = X_train.transpose((3,0,1,2)), y_train[:,0] #permute\n",
        "X_test,y_test = X_test.transpose((3,0,1,2)), y_test[:,0]"
      ],
      "metadata": {
        "id": "FTN5UF-B63Ln"
      },
      "execution_count": null,
      "outputs": []
    },
    {
      "cell_type": "code",
      "source": [
        "print(X_train.shape)\n",
        "print(y_test.shape)"
      ],
      "metadata": {
        "colab": {
          "base_uri": "https://localhost:8080/"
        },
        "id": "cCujnro47TDq",
        "outputId": "179c8e92-7caf-4adc-e2c4-33da25175961"
      },
      "execution_count": null,
      "outputs": [
        {
          "output_type": "stream",
          "name": "stdout",
          "text": [
            "(73257, 32, 32, 3)\n",
            "(26032,)\n"
          ]
        }
      ]
    },
    {
      "cell_type": "code",
      "source": [
        "num_img = X_train.shape[0] + X_test.shape[0]\n",
        "print(num_img)"
      ],
      "metadata": {
        "colab": {
          "base_uri": "https://localhost:8080/"
        },
        "id": "VHMgXbVf7b0u",
        "outputId": "abf6a733-7175-41b8-9299-d8c8a36e099c"
      },
      "execution_count": null,
      "outputs": [
        {
          "output_type": "stream",
          "name": "stdout",
          "text": [
            "99289\n"
          ]
        }
      ]
    },
    {
      "cell_type": "code",
      "source": [
        "np.unique(y_train)"
      ],
      "metadata": {
        "colab": {
          "base_uri": "https://localhost:8080/"
        },
        "id": "f3avAkW_7qfQ",
        "outputId": "dda88012-25da-42e3-bf90-14a67b9899c2"
      },
      "execution_count": null,
      "outputs": [
        {
          "output_type": "execute_result",
          "data": {
            "text/plain": [
              "array([ 1,  2,  3,  4,  5,  6,  7,  8,  9, 10], dtype=uint8)"
            ]
          },
          "metadata": {},
          "execution_count": 12
        }
      ]
    },
    {
      "cell_type": "code",
      "source": [
        "#assigning label 10 to 0 for ease of read\n",
        "y_train[y_train == 10] = 0\n",
        "y_test[y_test == 10] = 0"
      ],
      "metadata": {
        "id": "oUBZqrmY8LZu"
      },
      "execution_count": null,
      "outputs": []
    },
    {
      "cell_type": "code",
      "source": [
        "np.unique(y_train)"
      ],
      "metadata": {
        "colab": {
          "base_uri": "https://localhost:8080/"
        },
        "id": "0dB5qLKK8bn2",
        "outputId": "5e5fd619-e89f-4611-fcd5-d3f8cd601b6e"
      },
      "execution_count": null,
      "outputs": [
        {
          "output_type": "execute_result",
          "data": {
            "text/plain": [
              "array([0, 1, 2, 3, 4, 5, 6, 7, 8, 9], dtype=uint8)"
            ]
          },
          "metadata": {},
          "execution_count": 14
        }
      ]
    },
    {
      "cell_type": "code",
      "source": [
        "#train and validation split\n",
        "X_train, X_val, y_train, y_val = train_test_split(X_train, y_train, test_size=0.1, random_state = 2)"
      ],
      "metadata": {
        "id": "F1Pl-ctZ8chZ"
      },
      "execution_count": null,
      "outputs": []
    },
    {
      "cell_type": "code",
      "source": [
        "def grayscale(images):\n",
        "    return np.expand_dims(np.dot(images, [0.2990, 0.5870, 0.1140]), axis=3) # NTSC formula: 0.299 ∙ Red + 0.587 ∙ Green + 0.114 ∙ Blue\n",
        "#try opencv\n",
        "g_train = grayscale(X_train).astype(np.float32)\n",
        "g_test = grayscale(X_test).astype(np.float32)\n",
        "g_val = grayscale(X_val).astype(np.float32)"
      ],
      "metadata": {
        "id": "w8UvbM9T9Ac6"
      },
      "execution_count": null,
      "outputs": []
    },
    {
      "cell_type": "code",
      "source": [
        "# Normalizing\n",
        "# Liang et al. 2015 removing the per-pixel mean value calculated over the entire set.\n",
        "\n",
        "mean = np.mean(g_train, axis=0)\n",
        "\n",
        "# Calculate the std on the training data\n",
        "std = np.std(g_train, axis=0)\n",
        "\n",
        "# Subtract it equally from all splits\n",
        "ng_train = (g_train - mean) / std\n",
        "ng_test = (g_test - mean)  / std\n",
        "ng_val = (g_val - mean) / std"
      ],
      "metadata": {
        "id": "MJcDHYG69Cbx"
      },
      "execution_count": null,
      "outputs": []
    },
    {
      "cell_type": "code",
      "source": [
        "#one hot encode\n",
        "ohe = OneHotEncoder().fit(y_train.reshape(-1,1))"
      ],
      "metadata": {
        "id": "UU35nWTI_TyI"
      },
      "execution_count": null,
      "outputs": []
    },
    {
      "cell_type": "code",
      "source": [
        "y_train = ohe.transform(y_train.reshape(-1, 1)).toarray()\n",
        "y_test = ohe.transform(y_test.reshape(-1, 1)).toarray()\n",
        "y_val = ohe.transform(y_val.reshape(-1, 1)).toarray()"
      ],
      "metadata": {
        "id": "t9vHla4uACBc"
      },
      "execution_count": null,
      "outputs": []
    },
    {
      "cell_type": "code",
      "source": [
        "fname = h5py.File('greyscale_svhn1.h5', 'w')\n",
        "fname.create_dataset('X_train', data=ng_train)\n",
        "fname.create_dataset('y_train', data=y_train)\n",
        "fname.create_dataset('X_test', data=ng_test)\n",
        "fname.create_dataset('y_test', data=y_test)\n",
        "fname.create_dataset('X_val', data=ng_val)\n",
        "fname.create_dataset('y_val', data=y_val)\n",
        "fname.close()"
      ],
      "metadata": {
        "id": "NBnoeSJxAOc3"
      },
      "execution_count": null,
      "outputs": []
    },
    {
      "cell_type": "code",
      "source": [
        "!pwd"
      ],
      "metadata": {
        "colab": {
          "base_uri": "https://localhost:8080/"
        },
        "id": "ds6t016JAkXu",
        "outputId": "05a379fe-dd7f-48f5-b622-8437610019e6"
      },
      "execution_count": null,
      "outputs": [
        {
          "output_type": "stream",
          "name": "stdout",
          "text": [
            "/content\n"
          ]
        }
      ]
    },
    {
      "cell_type": "code",
      "source": [
        "!cp greyscale_svhn1.h5 /content/drive/MyDrive/archive"
      ],
      "metadata": {
        "id": "11OuPtv4Ayx7"
      },
      "execution_count": null,
      "outputs": []
    },
    {
      "cell_type": "code",
      "source": [],
      "metadata": {
        "id": "a8HToHDDBEoT"
      },
      "execution_count": null,
      "outputs": []
    }
  ]
}